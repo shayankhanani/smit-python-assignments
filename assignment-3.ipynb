{
 "cells": [
  {
   "cell_type": "code",
   "execution_count": 6,
   "metadata": {},
   "outputs": [
    {
     "name": "stdout",
     "output_type": "stream",
     "text": [
      "Enter a Number: 3\n",
      "Enter a Number: 5\n",
      "Select operations you want to perform: +, -, / , *, **/\n",
      "The result of '/' is 0.6\n"
     ]
    }
   ],
   "source": [
    "#Make a calculator using Python with addition , subtraction , multiplication , division and power.\n",
    "num = int(input(\"Enter a Number: \"))\n",
    "num2 = int(input(\"Enter a Number: \"))\n",
    "operation = input(\"Select operations you want to perform: +, -, / , *, **\")\n",
    "result = 0\n",
    "if operation == \"+\":\n",
    "    result = num + num2\n",
    "    print(\"The result of '+' is \" + str(result))\n",
    "elif operation == \"-\":\n",
    "    result = num - num2\n",
    "    print(\"The result of '-' is \" + str(result))\n",
    "elif operation == \"/\":\n",
    "    result = num / num2\n",
    "    print(\"The result of '/' is \" + str(result))\n",
    "elif operation == \"*\":\n",
    "    result = num * num2\n",
    "    print(\"The result of '*' is \" + str(result))\n",
    "elif operation == \"**\":\n",
    "    result = num ** num2\n",
    "    print(\"The result of '**' is \" + str(result))\n",
    "else:\n",
    "    print(\"Invalid Operation\")"
   ]
  },
  {
   "cell_type": "code",
   "execution_count": 6,
   "metadata": {},
   "outputs": [
    {
     "name": "stdout",
     "output_type": "stream",
     "text": [
      "Not Found!\n"
     ]
    }
   ],
   "source": [
    "#Write a program to check if there is any numeric value in list using for loop\n",
    "\n",
    "cities = [\"KHI\",2,\"LHR\",\"HYD\",\"ISB\"]\n",
    "val = 0\n",
    "for city in cities:\n",
    "    value = type(city)\n",
    "    if value == int or value == float:\n",
    "        val = 1\n",
    "if val == 1:\n",
    "    print(\"Numeric value found!\")\n",
    "else:\n",
    "    print(\"Not Found!\")\n",
    "        "
   ]
  },
  {
   "cell_type": "code",
   "execution_count": 8,
   "metadata": {},
   "outputs": [
    {
     "name": "stdout",
     "output_type": "stream",
     "text": [
      "{'name': 'Shayan', 'fname': 'Muhammad Sohail'}\n"
     ]
    }
   ],
   "source": [
    "#Write a Python script to add a key to a dictionary\n",
    "\n",
    "d = {}\n",
    "d[\"name\"] = \"Shayan\"\n",
    "d[\"fname\"] = \"Muhammad Sohail\"\n",
    "print(d)"
   ]
  },
  {
   "cell_type": "code",
   "execution_count": 10,
   "metadata": {},
   "outputs": [
    {
     "name": "stdout",
     "output_type": "stream",
     "text": [
      "The sum of all numeric value in dictionary is: 25\n"
     ]
    }
   ],
   "source": [
    "#Write a Python program to sum all the numeric items in a dictionary\n",
    "\n",
    "nums = {\"a\":3,\"b\":2,\"c\":9,\"d\":11,\"city\":\"ISB\"}\n",
    "sum = 0\n",
    "for num in nums.values():\n",
    "    value = type(num)\n",
    "    if value == int or value == float:\n",
    "        sum += num\n",
    "    else:\n",
    "        continue\n",
    "print(\"The sum of all numeric value in dictionary is: \" + str(sum))"
   ]
  },
  {
   "cell_type": "code",
   "execution_count": 2,
   "metadata": {},
   "outputs": [
    {
     "name": "stdout",
     "output_type": "stream",
     "text": [
      "[1, 8]\n"
     ]
    }
   ],
   "source": [
    "#Write a program to identify duplicate values from list\n",
    "\n",
    "#using range function\n",
    "\n",
    "nums = [0,1,1,3,5,8,8]\n",
    "duplicate = []\n",
    "for i in range(len(nums)):\n",
    "    k = i + 1\n",
    "    for j in range(k,len(nums)):\n",
    "        if nums[i] == nums[j] and nums[i] not in duplicate:\n",
    "            duplicate.append(nums[i])\n",
    "print(duplicate)\n"
   ]
  },
  {
   "cell_type": "code",
   "execution_count": 3,
   "metadata": {},
   "outputs": [
    {
     "name": "stdout",
     "output_type": "stream",
     "text": [
      "Type the key to check if exist: country\n",
      "Key found! country value is pakistan\n"
     ]
    }
   ],
   "source": [
    "#Write a Python script to check if a given key already exists in a dictionary\n",
    "\n",
    "details = {\"name\":\"shayan\", \"edu\":\"bscs\", \"job\":\"web designer\", \"country\":\"pakistan\"}\n",
    "key = input(\"Type the key to check if exist: \")\n",
    "value = 0\n",
    "for detail in details.keys():\n",
    "    if key == detail:\n",
    "        print(\"Key found! \" + str(key) + \" value is \" + str(details[key]))\n",
    "        value = 1\n",
    "        break\n",
    "    else:\n",
    "        continue\n",
    "if value != 1:\n",
    "    print(\"Key not exist.\")\n",
    "    "
   ]
  },
  {
   "cell_type": "code",
   "execution_count": null,
   "metadata": {},
   "outputs": [],
   "source": []
  }
 ],
 "metadata": {
  "kernelspec": {
   "display_name": "Python 3",
   "language": "python",
   "name": "python3"
  },
  "language_info": {
   "codemirror_mode": {
    "name": "ipython",
    "version": 3
   },
   "file_extension": ".py",
   "mimetype": "text/x-python",
   "name": "python",
   "nbconvert_exporter": "python",
   "pygments_lexer": "ipython3",
   "version": "3.7.4"
  }
 },
 "nbformat": 4,
 "nbformat_minor": 2
}
