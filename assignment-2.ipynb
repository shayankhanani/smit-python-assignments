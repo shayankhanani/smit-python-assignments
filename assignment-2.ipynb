{
 "cells": [
  {
   "cell_type": "code",
   "execution_count": 9,
   "metadata": {},
   "outputs": [
    {
     "name": "stdout",
     "output_type": "stream",
     "text": [
      "Enter the marks of Subject 1 out of 100: 33\n",
      "Enter the marks of Subject 2 out of 100: 49\n",
      "Enter the marks of Subject 3 out of 100: 45\n",
      "Enter the marks of Subject 4 out of 100: 86\n",
      "Enter the marks of Subject 5 out of 100: 71\n",
      "56\n",
      "Your Grade is C\n"
     ]
    }
   ],
   "source": [
    "# Write a program which takes 5 inputs from user for different subject’s marks, total it and generate mark sheet using grades?\n",
    "\n",
    "#without using loop and list\n",
    "crs = int(input(\"Enter the marks of Subject 1 out of 100: \"))\n",
    "crs += int(input(\"Enter the marks of Subject 2 out of 100: \"))\n",
    "crs += int(input(\"Enter the marks of Subject 3 out of 100: \"))\n",
    "crs += int(input(\"Enter the marks of Subject 4 out of 100: \"))\n",
    "crs += int(input(\"Enter the marks of Subject 5 out of 100: \"))\n",
    "\n",
    "avg = (crs//5) \n",
    "print(int(avg))\n",
    "\n",
    "if(avg<=40):\n",
    "    print(\"Your Grade is F\")\n",
    "elif(avg<=50):\n",
    "    print(\"Your Grade is D\")\n",
    "elif(avg<=60):\n",
    "    print(\"Your Grade is C\")\n",
    "elif(avg<=70):\n",
    "    print(\"Your Grade is B\")\n",
    "elif(crs<=85):\n",
    "    print(\"Your Grade is A\")\n",
    "elif(avg<=100):\n",
    "    print(\"Your Grade is A+\")\n",
    "else:\n",
    "    print(\"Invalid Inputs: Please check your scores once again.\")\n"
   ]
  },
  {
   "cell_type": "code",
   "execution_count": 12,
   "metadata": {},
   "outputs": [
    {
     "name": "stdout",
     "output_type": "stream",
     "text": [
      "Enter your favourite number! 72\n",
      "Your Number is Even\n"
     ]
    }
   ],
   "source": [
    "#Write a program which take input from user and identify that the given number is even or odd?\n",
    "\n",
    "getNum = int(input(\"Enter your favourite number! \"))\n",
    "\n",
    "if(getNum !=0):\n",
    "    if(getNum%2 == 0):\n",
    "        print(\"Your Number is Even\")\n",
    "    else:\n",
    "        print(\"Your Number is Odd\")\n",
    "elif(getNum == 1):\n",
    "    print(\"Your Number is Odd.\")\n",
    "else:\n",
    "    print(\"Invalid input\")"
   ]
  },
  {
   "cell_type": "code",
   "execution_count": 21,
   "metadata": {},
   "outputs": [
    {
     "name": "stdout",
     "output_type": "stream",
     "text": [
      "The total length of Programming Language list is 7\n"
     ]
    }
   ],
   "source": [
    "#Write a program which print the length of the list?\n",
    "\n",
    "prog = [\"Python\",\"JS\",\"C#\",\"C\",\"Rust\",\"PHP\",\"Java\"]\n",
    "print(\"The total length of Programming Language list is \" + str(len(prog)))"
   ]
  },
  {
   "cell_type": "code",
   "execution_count": 24,
   "metadata": {},
   "outputs": [
    {
     "name": "stdout",
     "output_type": "stream",
     "text": [
      "The sum of numeric values in a list is 43\n"
     ]
    }
   ],
   "source": [
    "#Write a Python program to sum all the numeric items in a list?\n",
    "\n",
    "nums = [1,3,5,9,8,7,0,10]\n",
    "a = 0\n",
    "for num in nums:\n",
    "    a += num\n",
    "    \n",
    "print(\"The sum of numeric values in a list is \" + str(a))"
   ]
  },
  {
   "cell_type": "code",
   "execution_count": 27,
   "metadata": {},
   "outputs": [
    {
     "name": "stdout",
     "output_type": "stream",
     "text": [
      "The largest number in a list is 15\n"
     ]
    }
   ],
   "source": [
    "#Write a Python program to get the largest number from a numeric list.\n",
    "nums = [15,3,11,9,8,7,0,10]\n",
    "a = nums[0]\n",
    "for num in nums:\n",
    "    if(a <= num):\n",
    "        a = num\n",
    "print(\"The largest number in a list is \" + str(a))\n"
   ]
  },
  {
   "cell_type": "code",
   "execution_count": 28,
   "metadata": {},
   "outputs": [
    {
     "name": "stdout",
     "output_type": "stream",
     "text": [
      "1\n",
      "1\n",
      "2\n",
      "3\n"
     ]
    }
   ],
   "source": [
    "'''\n",
    "Take a list, say for example this one:\n",
    "a = [1, 1, 2, 3, 5, 8, 13, 21, 34, 55, 89]\n",
    "and write a program that prints out all the elements of the list that are less than 5.\n",
    "'''\n",
    "\n",
    "a = [1, 1, 2, 3, 5, 8, 13, 21, 34, 55, 89]\n",
    "b = []\n",
    "for item in a:\n",
    "    if(item < 5):\n",
    "        b.append(item)\n",
    "        \n",
    "for item in b:\n",
    "    print(str(item))\n",
    "    "
   ]
  },
  {
   "cell_type": "code",
   "execution_count": null,
   "metadata": {},
   "outputs": [],
   "source": []
  }
 ],
 "metadata": {
  "kernelspec": {
   "display_name": "Python 3",
   "language": "python",
   "name": "python3"
  },
  "language_info": {
   "codemirror_mode": {
    "name": "ipython",
    "version": 3
   },
   "file_extension": ".py",
   "mimetype": "text/x-python",
   "name": "python",
   "nbconvert_exporter": "python",
   "pygments_lexer": "ipython3",
   "version": "3.7.4"
  }
 },
 "nbformat": 4,
 "nbformat_minor": 2
}
