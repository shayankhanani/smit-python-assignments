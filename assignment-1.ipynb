{
 "cells": [
  {
   "cell_type": "code",
   "execution_count": 2,
   "metadata": {},
   "outputs": [
    {
     "name": "stdout",
     "output_type": "stream",
     "text": [
      "Hello World\n"
     ]
    }
   ],
   "source": [
    "#testing\n",
    "print(\"Hello World\")"
   ]
  },
  {
   "cell_type": "code",
   "execution_count": 5,
   "metadata": {},
   "outputs": [
    {
     "name": "stdout",
     "output_type": "stream",
     "text": [
      "Python Version is3.7.4 (default, Aug  9 2019, 18:34:13) [MSC v.1915 64 bit (AMD64)]\n"
     ]
    }
   ],
   "source": [
    "#Write a Python program to get the Python version you are using\n",
    "import sys\n",
    "print(\"Python Version is\" + sys.version)"
   ]
  },
  {
   "cell_type": "code",
   "execution_count": 10,
   "metadata": {},
   "outputs": [
    {
     "name": "stdout",
     "output_type": "stream",
     "text": [
      "Twinkle, twinkle, little star, \n",
      " \tHow I wonder what you are! \n",
      " \t\tUp above the world so high, \n",
      " \t\tLike a diamond in the sky.\n",
      " Twinkle, twinkle, little star,\n",
      " \tHow I wonder what you are\n"
     ]
    }
   ],
   "source": [
    "#Write a Python program to print the following string in a specific format (see the output).\n",
    "'''\n",
    "Twinkle, twinkle, little star,\n",
    "      How I wonder what you are!\n",
    "          Up above the world so high,\n",
    "          Like a diamond in the sky.\n",
    "Twinkle, twinkle, little star,\n",
    "    How I wonder what you are\n",
    "\n",
    "'''\n",
    "\n",
    "print(\"Twinkle, twinkle, little star, \\n \\tHow I wonder what you are! \\n \\t\\tUp above the world so high, \\n \\t\\tLike a diamond in the sky.\\n Twinkle, twinkle, little star,\\n \\tHow I wonder what you are\")"
   ]
  },
  {
   "cell_type": "code",
   "execution_count": 21,
   "metadata": {},
   "outputs": [
    {
     "name": "stdout",
     "output_type": "stream",
     "text": [
      "Please enter the radius of Circle5\n",
      "The area of circle is: 78.53975\n",
      "The area of circle is: 78.53981633974483\n"
     ]
    }
   ],
   "source": [
    "#Write a Python program which accepts the radius of a circle from the user and compute the area.\n",
    "import math\n",
    "radius = int(input(\"Please enter the radius of Circle\"))\n",
    "area = 3.14159 * (radius * radius)\n",
    "print(\"The area of circle is: \" + str(area))\n",
    "\n",
    "area = math.pi * math.pow(radius,2)\n",
    "print(\"The area of circle is: \" + str(area))"
   ]
  },
  {
   "cell_type": "code",
   "execution_count": 26,
   "metadata": {},
   "outputs": [
    {
     "name": "stdout",
     "output_type": "stream",
     "text": [
      "Enter your First Name: Shayan\n",
      "Enter your Last Name: Khanani\n",
      "inanahK nayahS\n"
     ]
    }
   ],
   "source": [
    "#Write a Python program which accepts the user's first and last name and print them in reverse order with a space between them.\n",
    "\n",
    "fname = input(\"Enter your First Name: \")\n",
    "lname = input(\"Enter your Last Name: \")\n",
    "\n",
    "name = fname + \" \" + lname\n",
    "reverse = ''\n",
    "for c in name:\n",
    "    reverse = c + reverse\n",
    "print(reverse)\n",
    "    "
   ]
  },
  {
   "cell_type": "code",
   "execution_count": 30,
   "metadata": {},
   "outputs": [
    {
     "name": "stdout",
     "output_type": "stream",
     "text": [
      "Enter 1st Num: 5\n",
      "Enter 2nd Num: 6\n",
      "The sum of your number is: 11\n"
     ]
    }
   ],
   "source": [
    "#Write a python program which takes two inputs from user and print them addition\n",
    "addition = int(input(\"Enter 1st Num: \")) + int(input(\"Enter 2nd Num: \"))\n",
    "print(\"The sum of your number is: \" + str(addition))\n"
   ]
  },
  {
   "cell_type": "code",
   "execution_count": null,
   "metadata": {},
   "outputs": [],
   "source": []
  }
 ],
 "metadata": {
  "kernelspec": {
   "display_name": "Python 3",
   "language": "python",
   "name": "python3"
  },
  "language_info": {
   "codemirror_mode": {
    "name": "ipython",
    "version": 3
   },
   "file_extension": ".py",
   "mimetype": "text/x-python",
   "name": "python",
   "nbconvert_exporter": "python",
   "pygments_lexer": "ipython3",
   "version": "3.7.4"
  }
 },
 "nbformat": 4,
 "nbformat_minor": 2
}
