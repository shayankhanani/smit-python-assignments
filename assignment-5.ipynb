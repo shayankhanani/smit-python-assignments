{
 "cells": [
  {
   "cell_type": "code",
   "execution_count": 14,
   "metadata": {},
   "outputs": [
    {
     "name": "stdout",
     "output_type": "stream",
     "text": [
      "5040\n",
      "Invalid Input\n"
     ]
    }
   ],
   "source": [
    "'''\n",
    "Question:1 Write a Python function to calculate the factorial of a number\n",
    "(a non-negative integer). The function accepts the number as an argument.\n",
    "'''\n",
    "\n",
    "def fact(n):\n",
    "    result = n\n",
    "    if(n > 0):\n",
    "        while n != 1:\n",
    "            result *= n-1\n",
    "            n -=1\n",
    "        return result\n",
    "    else:\n",
    "        return \"Invalid Input\"\n",
    "        \n",
    "print(str(fact(7)))\n",
    "print(str(fact(-9)))"
   ]
  },
  {
   "cell_type": "code",
   "execution_count": 38,
   "metadata": {},
   "outputs": [
    {
     "name": "stdout",
     "output_type": "stream",
     "text": [
      "The No. of Lowercase Letters is: 4\n",
      "The No. of Uppercase Letters is: 3\n",
      "\n",
      "\n",
      "The No. of Lowercase Letters is: 2\n",
      "The No. of Uppercase Letters is: 4\n"
     ]
    }
   ],
   "source": [
    "'''\n",
    "Question:2 Write a Python function that accepts a string and calculate the\n",
    "number of upper case letters and lower case letters.\n",
    "''' \n",
    "\n",
    "def count(s):\n",
    "    lower = 0\n",
    "    upper = 0\n",
    "    for i in s:\n",
    "        if i.islower():\n",
    "            lower += 1\n",
    "        else:\n",
    "            upper +=1\n",
    "    print(\"The No. of Lowercase Letters is: \" + str(lower))\n",
    "    print(\"The No. of Uppercase Letters is: \" + str(upper))\n",
    "    \n",
    "count('ShAyanK')\n",
    "print('\\n')\n",
    "count('PyTHoN')\n",
    "            "
   ]
  },
  {
   "cell_type": "code",
   "execution_count": 18,
   "metadata": {},
   "outputs": [
    {
     "name": "stdout",
     "output_type": "stream",
     "text": [
      "4\n",
      "8\n",
      "0\n",
      "\n",
      "\n",
      "By using list \n",
      "\n",
      "4\n",
      "8\n",
      "0\n"
     ]
    }
   ],
   "source": [
    "'''\n",
    "Question:3 Write a Python function to print the even numbers from a given list.\n",
    "'''\n",
    "#by using arbitary arguments\n",
    "def even(*n):\n",
    "    for i in n:\n",
    "        if (i % 2 == 0):\n",
    "            print(str(i))\n",
    "\n",
    "even(1,3,7,9,4,8,0)\n",
    "print(\"\\n\")\n",
    "\n",
    "print(\"By using list \\n\")\n",
    "def evens(n):\n",
    "    for i in n:\n",
    "        if(i % 2 == 0):\n",
    "            print(str(i))\n",
    "            \n",
    "k = [1,3,7,9,4,8,0]\n",
    "evens(k)\n",
    "\n",
    "        "
   ]
  },
  {
   "cell_type": "code",
   "execution_count": 40,
   "metadata": {},
   "outputs": [
    {
     "name": "stdout",
     "output_type": "stream",
     "text": [
      "The string is Palindrome\n",
      "The string is Palindrome\n",
      "The string is not a Palindrome\n"
     ]
    }
   ],
   "source": [
    "'''\n",
    "Question:4 Write a Python function that checks whether a passed string\n",
    "is palindrome or not. Note: A palindrome is a word, phrase, or sequence\n",
    "that reads the same backward as forward, e.g., madam\n",
    "'''\n",
    "\n",
    "def palindrome(s):\n",
    "    rev = s[::-1]\n",
    "    if (s == rev):\n",
    "        print(\"The string is Palindrome\")\n",
    "    else:\n",
    "        print(\"The string is not a Palindrome\")\n",
    "        \n",
    "palindrome('madam')\n",
    "palindrome('malayalam')\n",
    "palindrome('teacher')\n",
    "    \n",
    "\n"
   ]
  },
  {
   "cell_type": "code",
   "execution_count": 32,
   "metadata": {},
   "outputs": [
    {
     "name": "stdout",
     "output_type": "stream",
     "text": [
      "The number: 7 is prime\n",
      "The number: 4 is not prime\n",
      "The number: 12 is not prime\n",
      "The number: 11 is prime\n",
      "The number: 100 is not prime\n",
      "The number: 19 is prime\n",
      "The number: 15 is not prime\n"
     ]
    }
   ],
   "source": [
    "'''\n",
    "Question:5 Write a Python function that takes a number as a parameter and\n",
    "check the number is prime or not.\n",
    "'''\n",
    "\n",
    "def prime(n):\n",
    "    if (n%2 == 0 or n%3 == 0):\n",
    "        print(\"The number: \" + str(n) + \" is not prime\")\n",
    "    else:\n",
    "        print(\"The number: \" + str(n) + \" is prime\")\n",
    "        \n",
    "prime(7)\n",
    "prime(4)\n",
    "prime(12)\n",
    "prime(11)\n",
    "prime(100)\n",
    "prime(19)\n",
    "prime(15)"
   ]
  },
  {
   "cell_type": "code",
   "execution_count": 34,
   "metadata": {},
   "outputs": [
    {
     "name": "stdout",
     "output_type": "stream",
     "text": [
      "Shopped Items are: \n",
      "\n",
      "oranges\n",
      "banana\n",
      "mangoes\n",
      "mint leaf\n"
     ]
    }
   ],
   "source": [
    "'''\n",
    "Question: 6 Suppose a customer is shopping in a market and you need to print\n",
    "all the items which user bought from market. Write a function which accepts\n",
    "the multiple arguments of user shopping list and print all the items which\n",
    "user bought from market.\n",
    "'''\n",
    "\n",
    "def bucket(*items):\n",
    "    print(\"Shopped Items are: \\n\")\n",
    "    for item in items:\n",
    "        print(item)\n",
    "bucket('oranges','banana','mangoes','mint leaf')"
   ]
  },
  {
   "cell_type": "code",
   "execution_count": null,
   "metadata": {},
   "outputs": [],
   "source": []
  }
 ],
 "metadata": {
  "kernelspec": {
   "display_name": "Python 3",
   "language": "python",
   "name": "python3"
  },
  "language_info": {
   "codemirror_mode": {
    "name": "ipython",
    "version": 3
   },
   "file_extension": ".py",
   "mimetype": "text/x-python",
   "name": "python",
   "nbconvert_exporter": "python",
   "pygments_lexer": "ipython3",
   "version": "3.7.4"
  }
 },
 "nbformat": 4,
 "nbformat_minor": 2
}
