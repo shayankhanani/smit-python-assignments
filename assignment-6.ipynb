{
 "cells": [
  {
   "cell_type": "code",
   "execution_count": 1,
   "metadata": {},
   "outputs": [
    {
     "data": {
      "text/plain": [
       "'\\nAnswer:\\n\\nOOP: Is a programming model in which program are organized around objects.\\nOOP model \\n\\n\\nReal World Example to understand OOP:\\n\\nLet’s take “hand” as an example. The “hand” is a class. Body has two objects\\nof the type \"hand\", named \"left hand\" and \"right hand\".\\n\\nMain function of hand class is to perform task and send signal to shoulder.\\n\\nThe hand is being reused to create the left hand and the right hand by slightly changing the properties of it\\n\\n'"
      ]
     },
     "execution_count": 1,
     "metadata": {},
     "output_type": "execute_result"
    }
   ],
   "source": [
    "#Question 1: Define Object Oriented Programming Language?\n",
    "\n",
    "'''\n",
    "Answer:\n",
    "\n",
    "OOP: Is a programming model in which program are organized around objects.\n",
    "OOP model \n",
    "\n",
    "\n",
    "Real World Example to understand OOP:\n",
    "\n",
    "Let’s take “hand” as an example. The “hand” is a class. Body has two objects\n",
    "of the type \"hand\", named \"left hand\" and \"right hand\".\n",
    "\n",
    "Main function of hand class is to perform task and send signal to shoulder.\n",
    "\n",
    "The hand is being reused to create the left hand and the right hand by slightly changing the properties of it\n",
    "\n",
    "'''"
   ]
  },
  {
   "cell_type": "code",
   "execution_count": 2,
   "metadata": {},
   "outputs": [
    {
     "data": {
      "text/plain": [
       "'\\nThe object-oriented programming approach encourages:\\n\\nModularisation: where the application can be decomposed into modules.\\n\\nSoftware re-use: where an application can be composed from existing and new modules.\\n\\n\\nThe benefits of OOPs are: \\n\\n1. It is easy to maintain and modify existing code as new objects can be created with small differences to existing ones.\\n2. It implements real life scenario.\\n3. It provides a simple way to solve complex problems.\\n4. OOP breaks down programming solution into smaller, more manageable chunks.\\n\\n\\n'"
      ]
     },
     "execution_count": 2,
     "metadata": {},
     "output_type": "execute_result"
    }
   ],
   "source": [
    "#Question 2: List down the Benefits of OOP?\n",
    "\n",
    "'''\n",
    "The object-oriented programming approach encourages:\n",
    "\n",
    "Modularisation: where the application can be decomposed into modules.\n",
    "\n",
    "Software re-use: where an application can be composed from existing and new modules.\n",
    "\n",
    "\n",
    "The benefits of OOPs are: \n",
    "\n",
    "1. It is easy to maintain and modify existing code as new objects can be created with small differences to existing ones.\n",
    "2. It implements real life scenario.\n",
    "3. It provides a simple way to solve complex problems.\n",
    "4. OOP breaks down programming solution into smaller, more manageable chunks.\n",
    "\n",
    "\n",
    "'''"
   ]
  },
  {
   "cell_type": "code",
   "execution_count": 3,
   "metadata": {},
   "outputs": [
    {
     "data": {
      "text/plain": [
       "'\\nFunction and Method are basically same thing.\\n\\nA method is a procedure or function in object-oriented programming.\\n\\nA function is a group of reusable code which can be called anywhere in your program.\\n\\nMethod is different from function in two ways.\\n\\n1. A method is implicitly passed the object on which it was called.\\n2. A method is able to operate on data that is contained within the class\\n(remembering that an object is an instance of a class - the class is the\\ndefinition, the object is an instance of that data).\\n\\n'"
      ]
     },
     "execution_count": 3,
     "metadata": {},
     "output_type": "execute_result"
    }
   ],
   "source": [
    "#Question 3: Differentiate between function and method?\n",
    "\n",
    "'''\n",
    "Function and Method are basically same thing.\n",
    "\n",
    "A method is a procedure or function in object-oriented programming.\n",
    "\n",
    "A function is a group of reusable code which can be called anywhere in your program.\n",
    "\n",
    "Method is different from function in two ways.\n",
    "\n",
    "1. A method is implicitly passed the object on which it was called.\n",
    "2. A method is able to operate on data that is contained within the class\n",
    "(remembering that an object is an instance of a class - the class is the\n",
    "definition, the object is an instance of that data).\n",
    "\n",
    "'''"
   ]
  },
  {
   "cell_type": "code",
   "execution_count": 1,
   "metadata": {},
   "outputs": [
    {
     "data": {
      "text/plain": [
       "\"\\nBehavior is nothing but a method of a class. A class's behavior determines how an instance of that class operates\\n\\nThe behavior of an object is defined by its methods, which are the functions and\\nsubroutines defined within the object class.\\n\\nReal World Example:\\nHand class behaviour is to catch, Student class behavior is to study. \\n\""
      ]
     },
     "execution_count": 1,
     "metadata": {},
     "output_type": "execute_result"
    }
   ],
   "source": [
    "#Question 4: Define the following terms:\n",
    "#1. Class\n",
    "#2. Object\n",
    "#3. Attribute\n",
    "#4. Behavior\n",
    "\n",
    "#Class\n",
    "'''\n",
    "Class: a representation of a type object, it is a blue print or template that describe object.\n",
    "\n",
    "Class is composed of three things: a name, attributes, and operations.\n",
    "\n",
    "We put common entities of same behaviour and property to design a class.\n",
    "'''\n",
    "\n",
    "#Object\n",
    "'''\n",
    "An object can be considered a \"thing\" that can perform a set of related activities.\n",
    "The set of activities that the object performs defines the object's behavior.\n",
    "For example, the Hand (object) can grip something, or a Student (object) can give their name or address.\n",
    "'''\n",
    "\n",
    "#Attribute\n",
    "'''\n",
    "Attributes are data stored inside a class or instance and represent the state or quality\n",
    "of the class or instance. In short, attributes store information about the instance.\n",
    "\n",
    "Real World Example: \n",
    "Hand class attribute will be \"No of Fingers\", Student class attribute will be roll no, subject enrolled etc.\n",
    "'''\n",
    "\n",
    "#Behavior\n",
    "'''\n",
    "Behavior is nothing but a method of a class. A class's behavior determines how an instance of that class operates\n",
    "\n",
    "The behavior of an object is defined by its methods, which are the functions and\n",
    "subroutines defined within the object class.\n",
    "\n",
    "Real World Example:\n",
    "Hand class behaviour is to catch, Student class behavior is to study. \n",
    "'''"
   ]
  },
  {
   "cell_type": "code",
   "execution_count": 32,
   "metadata": {},
   "outputs": [
    {
     "name": "stdout",
     "output_type": "stream",
     "text": [
      "Civic's 1799CC started\n",
      "City's Brakes are awesome\n",
      "Corolla XLi's experience is bad\n",
      "Swift's 1197CC started\n",
      "Ciaz's 1373CC started\n",
      "Civic's experience is bad\n",
      "<__main__.Car object at 0x000001FA7AEE4708>\n"
     ]
    }
   ],
   "source": [
    "'''\n",
    "Question 5:\n",
    "Write a code in python in which create a class named it Car which have 5 attributes\n",
    "such like (model, color and name etc.) and 3 methods. And create 5 object instance from that class.\n",
    "'''\n",
    "class Car:\n",
    "    def __init__(self, name, model, color, company, engine):\n",
    "        self.name = name\n",
    "        self.model = model\n",
    "        self.color = color\n",
    "        self.company = company\n",
    "        self.engine = engine\n",
    "        \n",
    "    def startEngine(self):\n",
    "        return self.name + \"'s \" + self.engine + \" started\"\n",
    "        \n",
    "    def brakeTest(self, x=False):\n",
    "        if x:\n",
    "            print(self.name + \"'s Brakes are awesome\")\n",
    "        else:\n",
    "            print(self.name + \"'s Brakes are not good\")\n",
    "        \n",
    "    def gearChange(self,shift='good'):\n",
    "        if(shift != \"good\"):\n",
    "            print(self.name + \"'s experience is bad\")\n",
    "        else:\n",
    "            print(self.name + \"'s experience is smooth\")\n",
    "                \n",
    "car1 = Car(\"Civic\",2019,\"Silver\",\"Honda\",\"1799CC\")\n",
    "car2 = Car(\"City\",2019,\"Crystal Black Pearl\",\"Honda\",\"1399CC\")\n",
    "car3 = Car(\"Corolla XLi\",2019,\"Strong Blue\",\"Toyota\",\"1299CC\")\n",
    "car4 = Car(\"Swift\",2019,\"Silky Silver\",\"Suzuki\",\"1197CC\")\n",
    "car5 = Car(\"Ciaz\",2019,\"Metallic Brown\",\"Suzuki\",\"1373CC\")\n",
    "\n",
    "print(car1.startEngine())\n",
    "car2.brakeTest(True)\n",
    "car3.gearChange(\"Fair\")\n",
    "\n",
    "print(car4.startEngine())\n",
    "print(car5.startEngine())\n",
    "car1.gearChange(\"Good\")\n",
    "\n",
    "print(car1)\n",
    "            \n",
    "    "
   ]
  },
  {
   "cell_type": "code",
   "execution_count": null,
   "metadata": {},
   "outputs": [],
   "source": []
  }
 ],
 "metadata": {
  "kernelspec": {
   "display_name": "Python 3",
   "language": "python",
   "name": "python3"
  },
  "language_info": {
   "codemirror_mode": {
    "name": "ipython",
    "version": 3
   },
   "file_extension": ".py",
   "mimetype": "text/x-python",
   "name": "python",
   "nbconvert_exporter": "python",
   "pygments_lexer": "ipython3",
   "version": "3.7.4"
  }
 },
 "nbformat": 4,
 "nbformat_minor": 2
}
