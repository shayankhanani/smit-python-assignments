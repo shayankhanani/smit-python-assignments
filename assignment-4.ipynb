{
 "cells": [
  {
   "cell_type": "code",
   "execution_count": 10,
   "metadata": {},
   "outputs": [
    {
     "name": "stdout",
     "output_type": "stream",
     "text": [
      "The person first_name is: Muhammad Ali\n",
      "The person last_name is: Mughal\n",
      "The person age is: 27\n",
      "The person city is: Karachi\n",
      " \n",
      " **Updated Data** \n",
      "\n",
      "The person first_name is: Muhammad Ali\n",
      "The person last_name is: Mughal\n",
      "The person age is: 27\n",
      "The person city is: Karachi\n",
      "The person qualification is: High Academic Level\n",
      " \n",
      " **Deleted Data** \n",
      "\n",
      "The person first_name is: Muhammad Ali\n",
      "The person last_name is: Mughal\n",
      "The person age is: 27\n",
      "The person city is: Karachi\n"
     ]
    }
   ],
   "source": [
    "'''\n",
    "Question1: Use a dictionary to store information about a person you know.\n",
    "Store their first name, last name, age, and the city in which they live.\n",
    "You should have keys such as first_name, last_name, age, and city.\n",
    "Print each piece of information stored in your dictionary.\n",
    "Add a new key value pair about qualification then update the qualification\n",
    "value to high academic level then delete it.\n",
    "\n",
    "'''\n",
    "\n",
    "person = {\n",
    "    \"first_name\":\"Muhammad Ali\",\n",
    "    \"last_name\": \"Mughal\",\n",
    "    \"age\": \"27\",\n",
    "    \"city\": \"Karachi\"\n",
    "}\n",
    "\n",
    "for each_key,each_value in person.items():\n",
    "    print(\"The person \" + each_key + \" is: \" + each_value)\n",
    "    \n",
    "person[\"qualification\"] = \"High Academic Level\"\n",
    "\n",
    "print(\" \\n **Updated Data** \\n\")\n",
    "\n",
    "for each_key,each_value in person.items():\n",
    "    print(\"The person \" + each_key + \" is: \" + each_value)\n",
    "    \n",
    "del person[\"qualification\"]\n",
    "\n",
    "print(\" \\n **Deleted Data** \\n\")\n",
    "\n",
    "for each_key,each_value in person.items():\n",
    "    print(\"The person \" + each_key + \" is: \" + each_value)"
   ]
  },
  {
   "cell_type": "code",
   "execution_count": 12,
   "metadata": {},
   "outputs": [
    {
     "name": "stdout",
     "output_type": "stream",
     "text": [
      "Karachi's Country: Pakistan\n",
      "Karachi's Population: 14.91 Million\n",
      "Karachi's Fact: It is called City of Light\n",
      "\n",
      "\n",
      "Istanbul's Country: Turkey\n",
      "Istanbul's Population: 15.07 Million\n",
      "Istanbul's Fact: It is called Cities of Mosques\n",
      "\n",
      "\n",
      "Vatican City's Country: Italy\n",
      "Vatican City's Population: 1000\n",
      "Vatican City's Fact: It is called Cities of Popes\n",
      "\n",
      "\n"
     ]
    }
   ],
   "source": [
    "'''\n",
    "Question2: Make a dictionary called cities. Use the names of three cities\n",
    "as keys in your dictionary. Create a dictionary of information about each\n",
    "city and include the country that the city is in, its approximate population,\n",
    "and one fact about that city. The keys for each city’s dictionary should be\n",
    "something like country, population, and fact. Print the name of each city and\n",
    "all of the information you have stored about it.\n",
    "'''\n",
    "\n",
    "cities = {\n",
    "    \"Karachi\":{\n",
    "        \"Country\" : \"Pakistan\",\n",
    "        \"Population\" : \"14.91 Million\",\n",
    "        \"Fact\" : \"It is called City of Light\"\n",
    "    },\n",
    "    \"Istanbul\":{\n",
    "        \"Country\" : \"Turkey\",\n",
    "        \"Population\" : \"15.07 Million\",\n",
    "        \"Fact\" : \"It is called Cities of Mosques\"\n",
    "    },\n",
    "    \"Vatican City\":{\n",
    "        \"Country\" : \"Italy\",\n",
    "        \"Population\" : \"1000\",\n",
    "        \"Fact\" : \"It is called Cities of Popes\"\n",
    "    }\n",
    "}\n",
    "\n",
    "for each_key,each_value in cities.items():\n",
    "    for k in each_value:\n",
    "        print(each_key + \"'s \" + k + \": \" + each_value[k])\n",
    "    print(\"\\n\")"
   ]
  },
  {
   "cell_type": "code",
   "execution_count": 8,
   "metadata": {},
   "outputs": [
    {
     "name": "stdout",
     "output_type": "stream",
     "text": [
      "**Welcome to ABC Theater**\n",
      "Insert your age to get your Ticket's Price\n",
      "Enter 'q' to quit\n",
      "Enter your age: 4\n",
      "The Ticket is Fee is $10\n",
      "Enter your age: 23\n",
      "The Ticket is Fee is $15\n",
      "Enter your age: 12\n",
      "The Ticket is Fee is $10\n",
      "Enter your age: q\n",
      "Thank You for visiting ABC Theater\n"
     ]
    }
   ],
   "source": [
    "'''\n",
    "Question3:\n",
    "A movie theater charges different ticket prices depending on a person’s age.\n",
    "If a person is under the age of 3, the ticket is free; if they are between 3\n",
    "and 12, the ticket is $10; and if they are over age 12, the ticket is $15.\n",
    "Write a loop in which you ask users their age, and then tell them the cost\n",
    "of their movie ticket.\n",
    "'''\n",
    "\n",
    "print(\"**Welcome to ABC Theater**\")\n",
    "print(\"Insert your age to get your Ticket's Price\")\n",
    "print(\"Enter 'q' to quit\")\n",
    "\n",
    "user_input = \"\"\n",
    "while user_input != \"q\":\n",
    "    user_input = input(\"Enter your age: \")\n",
    "    if user_input != \"q\":\n",
    "        i = int(user_input)\n",
    "        if i > 0 and i < 3:\n",
    "            print(\"The Ticket is free for age 3 and below.\")\n",
    "        elif i <= 12:\n",
    "            print(\"The Ticket is Fee is $10\")\n",
    "        elif i > 12:\n",
    "            print(\"The Ticket is Fee is $15\")\n",
    "        else:\n",
    "            print(\"Invalid Input, Please check\")\n",
    "    else:\n",
    "        print(\"Thank You for visiting ABC Theater\")"
   ]
  },
  {
   "cell_type": "code",
   "execution_count": 14,
   "metadata": {},
   "outputs": [
    {
     "name": "stdout",
     "output_type": "stream",
     "text": [
      "Enter your Favourite Book name: Alice in Wonderland\n",
      "One of My Favourute Book is: Alice in Wonderland\n"
     ]
    }
   ],
   "source": [
    "'''\n",
    "Question4:\n",
    "Write a function called favorite_book() that accepts one parameter, title.\n",
    "The function should print a message, such as One of my favorite books is Alice\n",
    "in Wonderland. Call the function, making sure to include a book title as an argument\n",
    "in the function call.\n",
    "'''\n",
    "\n",
    "def favorite_book(t):\n",
    "    print(\"One of My Favourute Book is: \" + t)\n",
    "    \n",
    "get_book = input(\"Enter your Favourite Book name: \")\n",
    "favorite_book(get_book)\n",
    "    "
   ]
  },
  {
   "cell_type": "code",
   "execution_count": 5,
   "metadata": {},
   "outputs": [
    {
     "name": "stdout",
     "output_type": "stream",
     "text": [
      "5\n",
      "You have three chances to guess the number\n",
      "Enter a Number to guess hidden number:7\n",
      "Sorry! Wrong guess.. but your number is greater than hidden number\n",
      "Enter a Number to guess hidden number:4\n",
      "Sorry! Wrong guess.. but your number is less than hidden number\n",
      "Enter a Number to guess hidden number:5\n",
      "Woah! You are great, you guess the correct number\n"
     ]
    }
   ],
   "source": [
    "'''\n",
    "Question5:\n",
    "Guess the number game\n",
    "Write a program which randomly generate a number between 1 to 30 and ask\n",
    "the user in input field to guess the correct number. Give three chances\n",
    "to user guess the number and also give hint to user if hidden number is\n",
    "greater or smaller than the number he given to input field.\n",
    "'''\n",
    "\n",
    "import random\n",
    "number = random.randrange(1,30)\n",
    "# print(number)\n",
    "print(\"You have three chances to guess the number\")\n",
    "i = 1\n",
    "while i <=3:\n",
    "    user_input = int(input(\"Enter a Number to guess hidden number:\"))\n",
    "    if user_input == number:\n",
    "        print(\"Woah! You are great, you guess the correct number\")\n",
    "        break\n",
    "    else:\n",
    "        if user_input < number:\n",
    "            print(\"Sorry! Wrong guess.. but your number is less than hidden number\")\n",
    "        else:\n",
    "            print(\"Sorry! Wrong guess.. but your number is greater than hidden number\")\n",
    "    i+=1"
   ]
  },
  {
   "cell_type": "code",
   "execution_count": null,
   "metadata": {},
   "outputs": [],
   "source": []
  },
  {
   "cell_type": "code",
   "execution_count": null,
   "metadata": {},
   "outputs": [],
   "source": []
  },
  {
   "cell_type": "code",
   "execution_count": null,
   "metadata": {},
   "outputs": [],
   "source": []
  },
  {
   "cell_type": "code",
   "execution_count": null,
   "metadata": {},
   "outputs": [],
   "source": []
  }
 ],
 "metadata": {
  "kernelspec": {
   "display_name": "Python 3",
   "language": "python",
   "name": "python3"
  },
  "language_info": {
   "codemirror_mode": {
    "name": "ipython",
    "version": 3
   },
   "file_extension": ".py",
   "mimetype": "text/x-python",
   "name": "python",
   "nbconvert_exporter": "python",
   "pygments_lexer": "ipython3",
   "version": "3.7.4"
  }
 },
 "nbformat": 4,
 "nbformat_minor": 2
}
